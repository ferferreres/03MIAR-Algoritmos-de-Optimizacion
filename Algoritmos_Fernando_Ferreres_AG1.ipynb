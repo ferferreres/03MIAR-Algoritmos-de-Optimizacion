{
  "cells": [
    {
      "cell_type": "markdown",
      "metadata": {
        "id": "view-in-github",
        "colab_type": "text"
      },
      "source": [
        "<a href=\"https://colab.research.google.com/github/ferferreres/03MIAR-Algoritmos-de-Optimizacion/blob/main/Algoritmos_Fernando_Ferreres_AG1.ipynb\" target=\"_parent\"><img src=\"https://colab.research.google.com/assets/colab-badge.svg\" alt=\"Open In Colab\"/></a>"
      ]
    },
    {
      "cell_type": "markdown",
      "metadata": {
        "id": "U6ukoY7BOHKt"
      },
      "source": [
        "# AG1 - Actividad Guiada 1\n",
        "\n",
        "Nombre: Fernando Ferreres Caballero\n",
        "\n",
        "Link:   https://colab.research.google.com/drive/1MM6Xg1WtBAxcuYhTcJoYqurQtaliXk7E?usp=sharing <br>\n",
        "\n",
        "Github: https://github.com/ferferreres/03MIAR-Algoritmos-de-Optimizacion <br>"
      ]
    },
    {
      "cell_type": "code",
      "execution_count": null,
      "metadata": {
        "colab": {
          "base_uri": "https://localhost:8080/"
        },
        "id": "H4O7qHqOQplt",
        "outputId": "f06bed65-5826-48f2-d67c-222c02f9802e"
      },
      "outputs": [
        {
          "name": "stdout",
          "output_type": "stream",
          "text": [
            "Lleva la ficha desde 1 hasta 2\n",
            "Llevar la ficha desde 1 hasta 3\n",
            "Lleva la ficha desde 2 hasta 3\n",
            "Llevar la ficha desde 1 hasta 2\n",
            "Lleva la ficha desde 3 hasta 1\n",
            "Llevar la ficha desde 3 hasta 2\n",
            "Lleva la ficha desde 1 hasta 2\n",
            "Llevar la ficha desde 1 hasta 3\n",
            "Lleva la ficha desde 2 hasta 3\n",
            "Llevar la ficha desde 2 hasta 1\n",
            "Lleva la ficha desde 3 hasta 1\n",
            "Llevar la ficha desde 2 hasta 3\n",
            "Lleva la ficha desde 1 hasta 2\n",
            "Llevar la ficha desde 1 hasta 3\n",
            "Lleva la ficha desde 2 hasta 3\n"
          ]
        }
      ],
      "source": [
        "#Torres de Hanoi\n",
        "\n",
        "def Torres_Hanoi(N, desde, hasta):\n",
        "  #N = nº de fichas\n",
        "  #desde = nº poste desde\n",
        "  #hasta = nº poste hasta\n",
        "\n",
        "  if N == 1:\n",
        "    print(\"Lleva la ficha desde \" + str(desde) + \" hasta \" + str(hasta))\n",
        "  else:\n",
        "    Torres_Hanoi(N-1, desde, 6-desde-hasta)\n",
        "    print(\"Llevar la ficha desde \" + str(desde) + \" hasta \" + str(hasta))\n",
        "    Torres_Hanoi(N-1, 6-desde-hasta, hasta)\n",
        "\n",
        "Torres_Hanoi(4, 1, 3)\n"
      ]
    },
    {
      "cell_type": "code",
      "execution_count": null,
      "metadata": {
        "colab": {
          "base_uri": "https://localhost:8080/"
        },
        "id": "r1cVZnvfmyl2",
        "outputId": "0ab12c59-f883-4ebf-8458-d4b9b45352a7"
      },
      "outputs": [
        {
          "data": {
            "text/plain": [
              "{25: 4, 10: 2, 5: 0, 1: 3}"
            ]
          },
          "execution_count": 3,
          "metadata": {},
          "output_type": "execute_result"
        }
      ],
      "source": [
        "#Cambio de moneda\n",
        "\n",
        "def cambio_monedas(cantidad, sistema):\n",
        "  # cantidad a cambiar\n",
        "  # sistema: valor de las monedas diferente, ordenado de mayor valor a menor\n",
        "  solucion = {}\n",
        "  for v in sistema:\n",
        "    monedas = cantidad // v\n",
        "    solucion[v] = monedas\n",
        "    cantidad -= monedas * v\n",
        "    if cantidad == 0:\n",
        "      return solucion\n",
        "\n",
        "cambio_monedas(123, [25, 10, 5, 1])"
      ]
    },
    {
      "cell_type": "markdown",
      "metadata": {
        "id": "MFGqAdRuvFxZ"
      },
      "source": [
        "# Problema de las 4 reinas"
      ]
    },
    {
      "cell_type": "code",
      "execution_count": null,
      "metadata": {
        "id": "eMOc683uuvye"
      },
      "outputs": [],
      "source": [
        "def es_prometedora(SOLUCION, etapa):\n",
        "  for i in range(etapa+1):\n",
        "    if SOLUCION.count(SOLUCION[i]) > 1: return False\n",
        "\n",
        "    for j in range(i + 1, etapa + 1):\n",
        "\n",
        "      if abs(i-j) == abs(SOLUCION[i]-SOLUCION[j]): return False\n",
        "  \n",
        "  return True"
      ]
    },
    {
      "cell_type": "code",
      "execution_count": null,
      "metadata": {
        "id": "qTQIfMrUvpqm"
      },
      "outputs": [],
      "source": [
        "def escribe_solucion(S):\n",
        "\n",
        "  n = len(S)\n",
        "  for x in range(n):\n",
        "    print(\"\")\n",
        "    for i in range(n):\n",
        "      if S[i] == x + 1:\n",
        "        print(\" X \", end = \"\")\n",
        "      else:\n",
        "        print(\" - \", end = \"\")"
      ]
    },
    {
      "cell_type": "code",
      "execution_count": null,
      "metadata": {
        "colab": {
          "base_uri": "https://localhost:8080/"
        },
        "id": "mihacvXUoyGd",
        "outputId": "b8192999-8f8d-4b2b-f479-5de1bfbb7057"
      },
      "outputs": [
        {
          "name": "stdout",
          "output_type": "stream",
          "text": [
            "\n",
            "\n",
            "La solución es:\n",
            "[2, 4, 1, 3]\n",
            "\n",
            " -  -  X  - \n",
            " X  -  -  - \n",
            " -  -  -  X \n",
            " -  X  -  - \n",
            "\n",
            "La solución es:\n",
            "[3, 1, 4, 2]\n",
            "\n",
            " -  X  -  - \n",
            " -  -  -  X \n",
            " X  -  -  - \n",
            " -  -  X  - "
          ]
        }
      ],
      "source": [
        "def reinas(N, solucion = [], etapa = 0):\n",
        "  # N        - Tamaño del tablero\n",
        "  # solucion - Solución parcial\n",
        "  # etapa    - nº de reinas colocadas en la solución parcial\n",
        "\n",
        "  # Inicializa la solución: una lista con ceros\n",
        "\n",
        "  if len(solucion) == 0:\n",
        "    solucion = [0 for i in range(N)]\n",
        "\n",
        "  for i in range(1, N+1):\n",
        "    solucion[etapa] = i\n",
        "\n",
        "    if es_prometedora(solucion, etapa):\n",
        "      if etapa == N-1:\n",
        "        print('\\n\\nLa solución es:')\n",
        "        print(solucion)\n",
        "        escribe_solucion(solucion)\n",
        "      else:\n",
        "        reinas(N, solucion, etapa+1)\n",
        "    else:\n",
        "      None\n",
        "\n",
        "  solucion[etapa] = 0\n",
        "  \n",
        "reinas(4, solucion = [], etapa = 0)"
      ]
    },
    {
      "cell_type": "code",
      "execution_count": null,
      "metadata": {
        "id": "pUOWvk6rvFxa"
      },
      "outputs": [],
      "source": [
        "#  Encontrar los dos puntos mas cercanos\n",
        "\n",
        "import random \n",
        "\n",
        "LISTA_1D = [random.randrange(1,10000) for x in range(1000)]\n",
        "\n",
        "LISTA_2D = [(random.randrange(1,10000), random.randrange(1,10000)) for x in range(1000)]\n",
        "\n",
        "LISTA_3D = [(random.randrange(1,10000), random.randrange(1,10000), random.randrange(1,10000)) for x in range(1000)]\n"
      ]
    },
    {
      "cell_type": "code",
      "execution_count": null,
      "metadata": {
        "id": "HqNkaJo9vFxb",
        "outputId": "132f9f71-3e90-4bb2-f9b4-0f5659d24fef"
      },
      "outputs": [
        {
          "name": "stdout",
          "output_type": "stream",
          "text": [
            "Los puntos mas cercanos son 194 y 194 || Distancia minima = 0\n"
          ]
        }
      ],
      "source": [
        "#Fuerza bruta\n",
        "def puntos_cercanos_fb(lista):\n",
        "    distancia_min = max(lista)\n",
        "    puntos = []\n",
        "    for i in range(len(lista)):\n",
        "        if distancia_min == 0:\n",
        "            break\n",
        "        for j in range(len(lista)):\n",
        "            distancia_aux = abs(lista[i] - lista[j])\n",
        "            if i != j and distancia_min > distancia_aux:\n",
        "                puntos = [lista[i], lista[j]]\n",
        "                distancia_min = distancia_aux\n",
        "            if distancia_min == 0:\n",
        "                break\n",
        "    print(f'Los puntos mas cercanos son {puntos[0]} y {puntos[1]} || Distancia minima = {distancia_min}')\n",
        "puntos_cercanos_fb(LISTA_1D)"
      ]
    },
    {
      "cell_type": "markdown",
      "metadata": {
        "id": "zZYChhjovFxb"
      },
      "source": [
        "<center>El algoritmo de fuerza bruta consiste en dos bucles anidados, por tanto:</center>"
      ]
    },
    {
      "cell_type": "markdown",
      "metadata": {
        "id": "9dXnZIPtvFxb"
      },
      "source": [
        "$$ O(n) * O(n) = O(n^2) $$"
      ]
    },
    {
      "cell_type": "code",
      "execution_count": null,
      "metadata": {
        "id": "odqPCqZpvFxc",
        "outputId": "773475ac-58f2-4288-a541-04a651a39461"
      },
      "outputs": [
        {
          "name": "stdout",
          "output_type": "stream",
          "text": [
            "Los puntos mas cercanos son 70 y 70 || Distancia minima = 0\n"
          ]
        }
      ],
      "source": [
        "#Divide y vencerás\n",
        "def dyv(lista, i, distancia_min, puntos = []):\n",
        "    distancia_aux = abs(lista[i] - lista[i+1])\n",
        "    if distancia_aux == 0:\n",
        "        print(f'Los puntos mas cercanos son {lista[i]} y {lista[i+1]} || Distancia minima = 0')\n",
        "    else:\n",
        "        if distancia_aux < distancia_min:\n",
        "            puntos = [lista[i], lista[i+1]]\n",
        "            distancia_min = distancia_aux\n",
        "        if i != len(lista)-2:\n",
        "            return dyv(lista, i+1, distancia_min, puntos)\n",
        "        print(f'Los puntos mas cercanos son {puntos[0]} y {puntos[1]} || Distancia minima = {distancia_min}')\n",
        "\n",
        "def puntos_cercanos_dyv(lista):\n",
        "    copia = lista.copy()\n",
        "    copia.sort()\n",
        "    dyv(copia, 0, distancia_min = max(copia))\n",
        "\n",
        "puntos_cercanos_dyv(LISTA_1D) "
      ]
    },
    {
      "cell_type": "markdown",
      "metadata": {
        "id": "cVsu7M0yvFxc"
      },
      "source": [
        "<center> Como el algoritmo de ordenación de la lista tiene complejidad </center>\n"
      ]
    },
    {
      "cell_type": "markdown",
      "metadata": {
        "id": "we-L-SYIvFxc"
      },
      "source": [
        "$$O(nLog(n))$$ "
      ]
    },
    {
      "cell_type": "markdown",
      "metadata": {
        "id": "FxVJjaPgvFxd"
      },
      "source": [
        "<center>y el algoritmo DyV contiene un unico bucle por tanto tiene complejidad</center>"
      ]
    },
    {
      "cell_type": "markdown",
      "metadata": {
        "id": "gbkk9DC9vFxd"
      },
      "source": [
        "$$O(n).$$"
      ]
    },
    {
      "cell_type": "markdown",
      "metadata": {
        "id": "rYCE9TsyvFxd"
      },
      "source": [
        "<center>Como el algoritmo se ejecutan de forma independiente sus complejidades se suman y no se multiplican. Por lo tanto, la complejidad final sería:</center>"
      ]
    },
    {
      "cell_type": "markdown",
      "metadata": {
        "id": "1UaNPNx5vFxd"
      },
      "source": [
        "$$O(n) + O(nLog(n)) = O(nLog(n))$$"
      ]
    },
    {
      "cell_type": "code",
      "execution_count": null,
      "metadata": {
        "id": "G84ofz1EvFxd",
        "outputId": "5bb29f06-00c1-4694-bf7a-52903bbd5044"
      },
      "outputs": [
        {
          "name": "stdout",
          "output_type": "stream",
          "text": [
            "Los puntos mas cercanos son (673, 346) y (678, 341) || Distancia minima = 7.0710678118654755\n"
          ]
        }
      ],
      "source": [
        "# 2D\n",
        "def dyv_2d(lista, i, distancia_min, puntos = []):\n",
        "    distancia_aux = ((lista[i][0] - lista[i+1][0])**2 + (lista[i][1] - lista[i+1][1])**2)**.5\n",
        "    if distancia_aux == 0:\n",
        "        print(f'Los puntos mas cercanos son {lista[i]} y {lista[i+1]} || Distancia minima = 0')\n",
        "    else:\n",
        "        if distancia_aux < distancia_min:\n",
        "            puntos = [lista[i], lista[i+1]]\n",
        "            distancia_min = distancia_aux\n",
        "        if i != len(lista)-2:\n",
        "            return dyv_2d(lista, i+1, distancia_min, puntos)\n",
        "        print(f'Los puntos mas cercanos son {puntos[0]} y {puntos[1]} || Distancia minima = {distancia_min}')\n",
        "\n",
        "def puntos_cercanos_dyv_2d(lista):\n",
        "    copia = lista.copy()\n",
        "    copia.sort()\n",
        "    dyv_2d(copia, 0, distancia_min = max(max(copia)))\n",
        "\n",
        "puntos_cercanos_dyv_2d(LISTA_2D) "
      ]
    },
    {
      "cell_type": "code",
      "execution_count": null,
      "metadata": {
        "id": "5cIdSyXTvFxd",
        "outputId": "2ea11ad6-1d73-4450-91f4-0bf4205b79a7"
      },
      "outputs": [
        {
          "name": "stdout",
          "output_type": "stream",
          "text": [
            "Los puntos mas cercanos son (1210, 5494, 6183) y (1214, 5556, 6134) || Distancia minima = 79.12648102879339\n"
          ]
        }
      ],
      "source": [
        "# 3D\n",
        "def dyv_3d(lista, i, distancia_min, puntos = []):\n",
        "    distancia_aux = ((lista[i][0] - lista[i+1][0])**2 + (lista[i][1] - lista[i+1][1])**2 + (lista[i][2] - lista[i+1][2])**2)**.5\n",
        "    if distancia_aux == 0:\n",
        "        print(f'Los puntos mas cercanos son {lista[i]} y {lista[i+1]} || Distancia minima = 0')\n",
        "    else:\n",
        "        if distancia_aux < distancia_min:\n",
        "            puntos = [lista[i], lista[i+1]]\n",
        "            distancia_min = distancia_aux\n",
        "        if i != len(lista)-2:\n",
        "            return dyv_3d(lista, i+1, distancia_min, puntos)\n",
        "        print(f'Los puntos mas cercanos son {puntos[0]} y {puntos[1]} || Distancia minima = {distancia_min}')\n",
        "\n",
        "def puntos_cercanos_dyv_3d(lista):\n",
        "    copia = lista.copy()\n",
        "    copia.sort()\n",
        "    dyv_3d(copia, 0, distancia_min = max(max(copia)))\n",
        "\n",
        "puntos_cercanos_dyv_3d(LISTA_3D) "
      ]
    }
  ],
  "metadata": {
    "colab": {
      "provenance": [],
      "include_colab_link": true
    },
    "kernelspec": {
      "display_name": "Python 3",
      "name": "python3"
    },
    "language_info": {
      "codemirror_mode": {
        "name": "ipython",
        "version": 3
      },
      "file_extension": ".py",
      "mimetype": "text/x-python",
      "name": "python",
      "nbconvert_exporter": "python",
      "pygments_lexer": "ipython3",
      "version": "3.9.13"
    }
  },
  "nbformat": 4,
  "nbformat_minor": 0
}