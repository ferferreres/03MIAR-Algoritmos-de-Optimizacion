{
  "cells": [
    {
      "cell_type": "markdown",
      "metadata": {
        "id": "hVbXYX-RfPWh"
      },
      "source": [
        "# Algoritmos de optimización - Seminario<br>\n",
        "Nombre y Apellidos: Fernando Ferreres Caballero<br>\n",
        "Url: https://github.com/ferferreres/03MIAR-Algoritmos-de-Optimizacion<br>\n",
        "\n",
        "Url Colab: https://colab.research.google.com/drive/1QGR_WYhHl0NZiKyBDQ37HiH8V1hdGmWf?usp=sharing<br>\n",
        "\n",
        "Problema:\n",
        "\n",
        ">3. Combinar cifras y operaciones\n",
        "\n",
        "Descripción del problema:  \n",
        "El problema consiste en analizar el siguiente problema y diseñar un algoritmo que lo resuelva.\n",
        "- Disponemos de las 9 cifras del 1 al 9 (excluimos el cero) y de los 4 signos básicos de las operaciones fundamentales: suma(+), resta(-), multiplicación(*) y división(/)\n",
        "- Debemos combinarlos alternativamente sin repetir ninguno de ellos para obtener una cantidad\n",
        "dada.  \n",
        "Un ejemplo sería para obtener el 4:  \n",
        "4+2-6/3*1 = 4\n",
        "\n",
        "Debe analizarse el problema para encontrar todos los valores enteros posibles planteando las siguientes cuestiones:\n",
        "- ¿Qué valor máximo y mínimo se pueden obtener según las condiciones del problema?\n",
        "- ¿Es posible encontrar todos los valores enteros posibles entre dicho mínimo y máximo ?\n",
        "                                        "
      ]
    },
    {
      "cell_type": "markdown",
      "metadata": {
        "id": "r52ChwnsybMP"
      },
      "source": [
        "(*)¿Cuantas posibilidades hay sin tener en cuenta las restricciones?<br>\n",
        "\n",
        "\n",
        "\n",
        "¿Cuantas posibilidades hay teniendo en cuenta todas las restricciones.\n",
        "\n",
        "\n"
      ]
    },
    {
      "cell_type": "markdown",
      "metadata": {
        "id": "WfCUqJyKhPcw"
      },
      "source": [
        "Respuesta"
      ]
    },
    {
      "cell_type": "markdown",
      "metadata": {
        "id": "tz2krwSdybMQ"
      },
      "source": [
        "Combinar 9 cifras limitadas a 5 por expresión y 4 operaciones básicas: $$\\frac{9!}{(9-5)!} \\cdot 4! = 362880$$"
      ]
    },
    {
      "cell_type": "markdown",
      "metadata": {
        "id": "iq6Fe32MgpDX"
      },
      "source": [
        "Al poder repetirse tanto las cifras como los operadores, tendríamos infinitas soluciones ya que lo que limita el tamaño de las expresiones son los operadores. \n",
        "\n",
        "Ejemplo con restricciones: $$1+2-3/4*5$$ Al no tener mas operadores la expresion termina. \n",
        "Ejemplo sin restricciones: $$1+2-3/4*5+2-3*9...$$ Al tener mas operadores no hay limite en el tamaño de la expresión."
      ]
    },
    {
      "cell_type": "markdown",
      "metadata": {
        "id": "dzynfVJahHoY"
      },
      "source": [
        "Modelo para el espacio de soluciones<br>\n",
        "(*) ¿Cual es la estructura de datos que mejor se adapta al problema? Argumentalo.(Es posible que hayas elegido una al principio y veas la necesidad de cambiar, arguentalo)\n"
      ]
    },
    {
      "cell_type": "markdown",
      "metadata": {
        "id": "xFIJrOwKi2Ti"
      },
      "source": [
        "Respuesta"
      ]
    },
    {
      "cell_type": "markdown",
      "metadata": {
        "id": "38c-7-ejhJmA"
      },
      "source": [
        "La estructura de datos consiste en dos listas de strings:\n",
        "\n",
        "    -   Cifras\n",
        "    -   Operadores\n",
        "\n",
        "Con la combinacion de estas obtenemos las diferentes expresiones necesarias para realizar el calculo con la funcion eval().\n",
        "\n",
        "Al principio traté de usar diccionarios en vez de listas, pero el codigo se hacia dificil de leer e incluso tedioso para programar y opté por cambiarlo. "
      ]
    },
    {
      "cell_type": "markdown",
      "metadata": {
        "id": "7Z9U2W7bi-XS"
      },
      "source": [
        "Según el modelo para el espacio de soluciones<br>\n",
        "(*)¿Cual es la función objetivo?\n",
        "\n",
        "(*)¿Es un problema de maximización o minimización?"
      ]
    },
    {
      "cell_type": "markdown",
      "metadata": {
        "id": "hBalWLM7j1_d"
      },
      "source": [
        "Respuesta"
      ]
    },
    {
      "cell_type": "markdown",
      "metadata": {
        "id": "OckGpv3HybMT"
      },
      "source": [
        "La función objetivo es encontrar la combinación de cifras y operaciones sin repetición que de como resultado un numero entero objetivo. "
      ]
    },
    {
      "cell_type": "markdown",
      "metadata": {
        "id": "pDA-rg3Gj5Lz"
      },
      "source": [
        "No es ni un problema de maximización ni minimización, es un problema de busqueda de un resultado realizando combinaciones entre cifras y operadores. "
      ]
    },
    {
      "cell_type": "markdown",
      "metadata": {
        "id": "rlnTYgY1j6I2"
      },
      "source": [
        "Diseña un algoritmo para resolver el problema por fuerza bruta"
      ]
    },
    {
      "cell_type": "markdown",
      "metadata": {
        "id": "70rDgxYXkC8r"
      },
      "source": [
        "Respuesta"
      ]
    },
    {
      "cell_type": "code",
      "execution_count": null,
      "metadata": {
        "id": "CJb5sQ0qkENy",
        "outputId": "1f12210b-0f5b-4fa4-b528-27671076a351"
      },
      "outputs": [
        {
          "data": {
            "text/plain": [
              "('7/1-2+8*9', 77.0)"
            ]
          },
          "execution_count": 27,
          "metadata": {},
          "output_type": "execute_result"
        }
      ],
      "source": [
        "from itertools import permutations\n",
        "\n",
        "\n",
        "def calcular_valor(objetivo):\n",
        "\n",
        "    #Generamos cifras del 1 al 10\n",
        "    cifras = [x for x in range(1, 10)]\n",
        "    #Generamos lista de operadores\n",
        "    operadores = ['+', '-', '*', '/']\n",
        "\n",
        "    for c in permutations(cifras, 5):\n",
        "        for o in permutations(operadores, 4):\n",
        "            expresion = ''\n",
        "            for i in range(4):\n",
        "                expresion += str(c[i]) + o[i]\n",
        "            expresion += str(c[4])\n",
        "            resultado = eval(expresion)\n",
        "\n",
        "            if resultado == int(resultado) and resultado == objetivo:\n",
        "                return expresion, resultado\n",
        "\n",
        "\n",
        "calcular_valor(77)"
      ]
    },
    {
      "cell_type": "markdown",
      "metadata": {
        "id": "tgrnsC2nkFa8"
      },
      "source": [
        "Calcula la complejidad del algoritmo por fuerza bruta"
      ]
    },
    {
      "cell_type": "markdown",
      "metadata": {
        "id": "9eUd3xwckP68"
      },
      "source": [
        "Respuesta"
      ]
    },
    {
      "cell_type": "markdown",
      "metadata": {
        "id": "T_GaERG1ybMX"
      },
      "source": [
        "El algoritmo por fuerza bruta genera todas las combinaciones posibles de los elementos de la lista de números y operaciones."
      ]
    },
    {
      "cell_type": "markdown",
      "metadata": {
        "id": "2Cv-KiEdybMX"
      },
      "source": [
        "Siendo $n$ el número de elementos de la lista de cifras, la complejidad es: $$O(n!)$$ "
      ]
    },
    {
      "cell_type": "markdown",
      "metadata": {
        "id": "0uKhNtB1ybMX"
      },
      "source": [
        "Siendo $m$ el número de elementos de la lista de operaciones, la complejidad es: $$O(m!)$$"
      ]
    },
    {
      "cell_type": "markdown",
      "metadata": {
        "id": "xUnJm4OYybMX"
      },
      "source": [
        "Por tanto la complejidad final será: $$O(n! \\cdot m!)$$"
      ]
    },
    {
      "cell_type": "markdown",
      "metadata": {
        "id": "txbrmLmskReM"
      },
      "source": [
        "(*)Diseña un algoritmo que mejore la complejidad del algortimo por fuerza bruta. Argumenta porque crees que mejora el algoritmo por fuerza bruta"
      ]
    },
    {
      "cell_type": "markdown",
      "metadata": {
        "id": "hLrVwt5QkZPD"
      },
      "source": [
        "Respuesta"
      ]
    },
    {
      "cell_type": "code",
      "execution_count": null,
      "metadata": {
        "id": "m1eyM21Vkabg"
      },
      "outputs": [],
      "source": [
        "#Generamos cifras del 1 al 10\n",
        "cifras = [str(x) for x in range(1, 10)]\n",
        "#Generamos lista de operadores\n",
        "operadores = ['+', '-', '*', '/']"
      ]
    },
    {
      "cell_type": "code",
      "execution_count": null,
      "metadata": {
        "id": "oddv5pA7ybMY",
        "outputId": "49f3f16e-51e5-412f-8b1d-372709ef1191"
      },
      "outputs": [
        {
          "data": {
            "text/plain": [
              "['1-2+3',\n",
              " '1-2+4',\n",
              " '1-2+5',\n",
              " '1-2+6',\n",
              " '1-2+7',\n",
              " '1-2+8',\n",
              " '1-2+9',\n",
              " '1-2*3',\n",
              " '1-2*4',\n",
              " '1-2*5',\n",
              " '1-2*6',\n",
              " '1-2*7',\n",
              " '1-2*8',\n",
              " '1-2*9',\n",
              " '1-2/3',\n",
              " '1-2/4',\n",
              " '1-2/5',\n",
              " '1-2/6',\n",
              " '1-2/7',\n",
              " '1-2/8',\n",
              " '1-2/9']"
            ]
          },
          "execution_count": 121,
          "metadata": {},
          "output_type": "execute_result"
        }
      ],
      "source": [
        "import random\n",
        "def crear_hijos(NODO, cifras, operadores): #Creamos la lista HIJOS a partir de un NODO PADRE. \n",
        "    \n",
        "    HIJOS = []\n",
        "    cifras_faltantes = [x for x in cifras if x not in NODO]\n",
        "    operaciones_faltantes = [x for x in operadores if x not in NODO]\n",
        "    if len(operaciones_faltantes) >= 1:\n",
        "        for o in operaciones_faltantes:\n",
        "            for c in cifras_faltantes:\n",
        "                HIJOS.append(NODO + o + c)\n",
        "        return HIJOS\n",
        "    else:\n",
        "        return NODO\n",
        "crear_hijos('1-2', cifras, operadores)"
      ]
    },
    {
      "cell_type": "code",
      "execution_count": null,
      "metadata": {
        "id": "o1X3gtLjybMY",
        "outputId": "e4b9ab09-0aba-4e3b-ec45-ca1e5d3d6a45"
      },
      "outputs": [
        {
          "data": {
            "text/plain": [
              "(9, 0.1111111111111111)"
            ]
          },
          "execution_count": 118,
          "metadata": {},
          "output_type": "execute_result"
        }
      ],
      "source": [
        "def cotas(NODO, cifras):\n",
        "\n",
        "    if eval(NODO) > 0:\n",
        "        operadores_pos = [\"*\", \"+\"]\n",
        "        operadores_neg = [\"/\", \"-\"]\n",
        "    else:\n",
        "        operadores_pos = [\"/\", \"+\"]\n",
        "        operadores_neg = [\"*\", \"-\"]\n",
        "\n",
        "    operadores_faltantes_pos = [x for x in operadores_pos if x not in NODO]\n",
        "    operadores_faltantes_neg = [x for x in operadores_neg if x not in NODO]\n",
        "\n",
        "    cifras_faltantes = [x for x in cifras if x not in NODO]\n",
        "\n",
        "    if len(operadores_faltantes_pos) > 0:\n",
        "        CS = eval(NODO + operadores_faltantes_pos[0] + max(cifras_faltantes))\n",
        "    else:\n",
        "        CS = eval(NODO)\n",
        "\n",
        "    if len(operadores_faltantes_neg) > 0:\n",
        "        CI = eval(NODO + operadores_faltantes_neg[0] + max(cifras_faltantes))\n",
        "    else:\n",
        "        CI = eval(NODO)\n",
        "\n",
        "    return CS, CI\n",
        "\n",
        "cotas('1', cifras)"
      ]
    },
    {
      "cell_type": "code",
      "execution_count": null,
      "metadata": {
        "id": "S7aK3QHBybMZ",
        "outputId": "131729b3-696d-418d-cba1-0340faf75b05"
      },
      "outputs": [
        {
          "name": "stdout",
          "output_type": "stream",
          "text": [
            "La solucion final es:  9*8+7/1-2  en  15  iteraciones.\n",
            "El mejor valor es:  77.0\n"
          ]
        }
      ],
      "source": [
        "def ramificacion_y_poda(objetivo, cifras, operadores):\n",
        "\n",
        "    NODOS_INICIALES = cifras.copy()\n",
        "    NODOS = []\n",
        "    for y in operadores:\n",
        "        for x in permutations(range(1,10), 2):\n",
        "            NODOS.append({'s': str(x[0]) + str(y) + str(x[1]), 'cotas': cotas(str(x[0]) + str(y) + str(x[1]), cifras)})\n",
        "\n",
        "    iteracion = 0\n",
        "\n",
        "    lista_elim = [] #Lista de nodos que no se exploran.\n",
        "\n",
        "    while(len(NODOS) > 0):\n",
        "\n",
        "        iteracion += 1\n",
        "\n",
        "        lista_prom = [] #Lista de nodos prometedores.\n",
        "        for n in NODOS:\n",
        "            if '/' in n['s'] and '*' in n['s']:\n",
        "                resultado_par = eval(n['s'])\n",
        "                if resultado_par != int(resultado_par):\n",
        "                    lista_elim.append(n['s'])\n",
        "\n",
        "            if n['cotas'][0] > objetivo and n['cotas'][1] < objetivo:\n",
        "                lista_prom.append(n['s'])\n",
        "            else:\n",
        "                lista_elim.append(n['s'])\n",
        "\n",
        "        nodo_prometedor = random.choice(lista_prom)\n",
        "        \n",
        "        HIJOS = [{'s': x, 'cotas': cotas(x, cifras)} for x in crear_hijos(nodo_prometedor, cifras, operadores)]\n",
        "\n",
        "        NODO_FINAL = [x for x in HIJOS if len(x['s']) == 9]\n",
        "\n",
        "        if len(NODO_FINAL) > 0:\n",
        "            if eval(NODO_FINAL[0]['s']) == objetivo:\n",
        "                return NODO_FINAL[0]['s'], iteracion\n",
        "            else:\n",
        "                lista_elim.append(NODO_FINAL)\n",
        "        \n",
        "        HIJOS = [x for x in HIJOS if x['cotas'][0] > objetivo and x['cotas'][1] < objetivo]\n",
        "        NODOS.extend(HIJOS)\n",
        "        NODOS = [x for x in NODOS if x['s'] != nodo_prometedor]\n",
        "\n",
        "solucion, iter = ramificacion_y_poda(77, cifras, operadores)\n",
        "\n",
        "print('La solucion final es: ', solucion, ' en ', iter, ' iteraciones.')\n",
        "print('El mejor valor es: ', eval(solucion))\n",
        "            \n",
        "            "
      ]
    },
    {
      "cell_type": "markdown",
      "metadata": {
        "id": "eGDB4K6uk1iN"
      },
      "source": [
        "(*)Calcula la complejidad del algoritmo "
      ]
    },
    {
      "cell_type": "markdown",
      "metadata": {
        "id": "NhpTh_BPk1ms"
      },
      "source": [
        "Respuesta"
      ]
    },
    {
      "cell_type": "markdown",
      "metadata": {
        "id": "nREzhkStlCq8"
      },
      "source": [
        "Como estamos utilizando el algoritmo de ramificacion y poda, el cual nos da la ventaja de no tener que explorar todas las combinaciones, la complejidad es menor que usando fuerza bruta. \n",
        "\n",
        "En este tipo de algoritmos es complejo calcular la complejidad, ya que depende del caso van a ser descartadas mas o menos ramas. "
      ]
    },
    {
      "cell_type": "markdown",
      "metadata": {
        "id": "3M6QjTsSkmYe"
      },
      "source": [
        "Según el problema (y tenga sentido), diseña un juego de datos de entrada aleatorios"
      ]
    },
    {
      "cell_type": "markdown",
      "metadata": {
        "id": "Jc3_OlyNkvjZ"
      },
      "source": [
        "Respuesta"
      ]
    },
    {
      "cell_type": "code",
      "execution_count": null,
      "metadata": {
        "id": "sJ-N2etjkyWc"
      },
      "outputs": [],
      "source": [
        "datos_de_entrada = [random.randint(-69, 77) for x in range(10)]\n",
        "print(datos_de_entrada)"
      ]
    },
    {
      "cell_type": "markdown",
      "metadata": {
        "id": "zy5ZROmjlGo1"
      },
      "source": [
        "Aplica el algoritmo al juego de datos generado"
      ]
    },
    {
      "cell_type": "markdown",
      "metadata": {
        "id": "_Cmj-PVylMsa"
      },
      "source": [
        "Respuesta"
      ]
    },
    {
      "cell_type": "code",
      "execution_count": null,
      "metadata": {
        "id": "Jkx8GeiYlUz1",
        "outputId": "5aab0b26-d7d8-4c6c-95b6-0f0305cd097d"
      },
      "outputs": [
        {
          "name": "stdout",
          "output_type": "stream",
          "text": [
            "La solucion final es:  4/1+3*7-2  en  108  iteraciones.\n",
            "El mejor valor es:  23.0\n",
            "La solucion final es:  4+5/1*7-2  en  92  iteraciones.\n",
            "El mejor valor es:  37.0\n",
            "La solucion final es:  4-5/1*7+2  en  125  iteraciones.\n",
            "El mejor valor es:  -29.0\n",
            "La solucion final es:  8*6/1+9-2  en  27  iteraciones.\n",
            "El mejor valor es:  55.0\n",
            "La solucion final es:  6*1/2+3-4  en  295  iteraciones.\n",
            "El mejor valor es:  2.0\n",
            "La solucion final es:  1+7*6/3-2  en  45  iteraciones.\n",
            "El mejor valor es:  13.0\n",
            "La solucion final es:  3*5+8/2-1  en  71  iteraciones.\n",
            "El mejor valor es:  18.0\n",
            "La solucion final es:  9*2/6+4-1  en  52  iteraciones.\n",
            "El mejor valor es:  6.0\n",
            "La solucion final es:  6-7/1*5+2  en  59  iteraciones.\n",
            "El mejor valor es:  -27.0\n",
            "La solucion final es:  1/2*8-6+3  en  209  iteraciones.\n",
            "El mejor valor es:  1.0\n"
          ]
        }
      ],
      "source": [
        "for x in datos_de_entrada:\n",
        "    solucion, iter = ramificacion_y_poda(x, cifras, operadores)\n",
        "\n",
        "    print('La solucion final es: ', solucion, ' en ', iter, ' iteraciones.')\n",
        "    print('El mejor valor es: ', eval(solucion))"
      ]
    },
    {
      "cell_type": "markdown",
      "metadata": {
        "id": "eTFWUJQrtGcv"
      },
      "source": [
        "Enumera las referencias que has utilizado(si ha sido necesario) para llevar a cabo el trabajo"
      ]
    },
    {
      "cell_type": "markdown",
      "metadata": {
        "id": "YKQ_mRBttWsP"
      },
      "source": [
        "Respuesta"
      ]
    },
    {
      "cell_type": "markdown",
      "metadata": {
        "id": "kAkDPUyRtYyH"
      },
      "source": [
        "Describe brevemente las lineas de como crees que es posible avanzar en el estudio del problema. Ten en cuenta incluso posibles variaciones del problema y/o variaciones al alza del tamaño"
      ]
    },
    {
      "cell_type": "markdown",
      "metadata": {
        "id": "IE0uZmo-tZu-"
      },
      "source": [
        "Respuesta"
      ]
    }
  ],
  "metadata": {
    "colab": {
      "provenance": []
    },
    "kernelspec": {
      "display_name": "Python 3",
      "name": "python3"
    },
    "language_info": {
      "codemirror_mode": {
        "name": "ipython",
        "version": 3
      },
      "file_extension": ".py",
      "mimetype": "text/x-python",
      "name": "python",
      "nbconvert_exporter": "python",
      "pygments_lexer": "ipython3",
      "version": "3.9.13"
    }
  },
  "nbformat": 4,
  "nbformat_minor": 0
}